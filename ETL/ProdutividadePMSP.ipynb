{
 "cells": [
  {
   "cell_type": "markdown",
   "id": "6f02b530",
   "metadata": {},
   "source": [
    "# Análisando dados da produtividade da policia do estado de São Paulo em Santos\n",
    "\n",
    "Segurança no Estado de São Paulo,\n",
    "Dados estatísticos da Secretaria de Segurança Pública do Estado de São Paulo.\n",
    "#### Organização\n",
    "Governo de São Paulo\n",
    "#### Cobertura temporal\n",
    "2002 - 2021"
   ]
  },
  {
   "cell_type": "code",
   "execution_count": 112,
   "id": "2c2929c6",
   "metadata": {},
   "outputs": [
    {
     "data": {
      "text/html": [
       "<svg  width=\"550\" height=\"55\"><rect x=\"0\" y=\"0\" width=\"55\" height=\"55\" style=\"fill:#a1c9f4;stroke-width:2;stroke:rgb(255,255,255)\"/><rect x=\"55\" y=\"0\" width=\"55\" height=\"55\" style=\"fill:#ffb482;stroke-width:2;stroke:rgb(255,255,255)\"/><rect x=\"110\" y=\"0\" width=\"55\" height=\"55\" style=\"fill:#8de5a1;stroke-width:2;stroke:rgb(255,255,255)\"/><rect x=\"165\" y=\"0\" width=\"55\" height=\"55\" style=\"fill:#ff9f9b;stroke-width:2;stroke:rgb(255,255,255)\"/><rect x=\"220\" y=\"0\" width=\"55\" height=\"55\" style=\"fill:#d0bbff;stroke-width:2;stroke:rgb(255,255,255)\"/><rect x=\"275\" y=\"0\" width=\"55\" height=\"55\" style=\"fill:#debb9b;stroke-width:2;stroke:rgb(255,255,255)\"/><rect x=\"330\" y=\"0\" width=\"55\" height=\"55\" style=\"fill:#fab0e4;stroke-width:2;stroke:rgb(255,255,255)\"/><rect x=\"385\" y=\"0\" width=\"55\" height=\"55\" style=\"fill:#cfcfcf;stroke-width:2;stroke:rgb(255,255,255)\"/><rect x=\"440\" y=\"0\" width=\"55\" height=\"55\" style=\"fill:#fffea3;stroke-width:2;stroke:rgb(255,255,255)\"/><rect x=\"495\" y=\"0\" width=\"55\" height=\"55\" style=\"fill:#b9f2f0;stroke-width:2;stroke:rgb(255,255,255)\"/></svg>"
      ],
      "text/plain": [
       "[(0.6313725490196078, 0.788235294117647, 0.9568627450980393),\n",
       " (1.0, 0.7058823529411765, 0.5098039215686274),\n",
       " (0.5529411764705883, 0.8980392156862745, 0.6313725490196078),\n",
       " (1.0, 0.6235294117647059, 0.6078431372549019),\n",
       " (0.8156862745098039, 0.7333333333333333, 1.0),\n",
       " (0.8705882352941177, 0.7333333333333333, 0.6078431372549019),\n",
       " (0.9803921568627451, 0.6901960784313725, 0.8941176470588236),\n",
       " (0.8117647058823529, 0.8117647058823529, 0.8117647058823529),\n",
       " (1.0, 0.996078431372549, 0.6392156862745098),\n",
       " (0.7254901960784313, 0.9490196078431372, 0.9411764705882353)]"
      ]
     },
     "execution_count": 112,
     "metadata": {},
     "output_type": "execute_result"
    }
   ],
   "source": [
    "#import bibliotecas\n",
    "import pandas as pd\n",
    "import numpy as np\n",
    "import plotly.offline as py\n",
    "import plotly.graph_objs as go\n",
    "import seaborn as sns\n",
    "import matplotlib.pyplot as plt\n",
    "\n",
    "plt.style.use('ggplot')\n",
    "sns.color_palette('pastel')"
   ]
  },
  {
   "cell_type": "code",
   "execution_count": 132,
   "id": "55976f9e",
   "metadata": {},
   "outputs": [
    {
     "data": {
      "text/html": [
       "<div>\n",
       "<style scoped>\n",
       "    .dataframe tbody tr th:only-of-type {\n",
       "        vertical-align: middle;\n",
       "    }\n",
       "\n",
       "    .dataframe tbody tr th {\n",
       "        vertical-align: top;\n",
       "    }\n",
       "\n",
       "    .dataframe thead th {\n",
       "        text-align: right;\n",
       "    }\n",
       "</style>\n",
       "<table border=\"1\" class=\"dataframe\">\n",
       "  <thead>\n",
       "    <tr style=\"text-align: right;\">\n",
       "      <th></th>\n",
       "      <th>ano</th>\n",
       "      <th>mes</th>\n",
       "      <th>id_municipio</th>\n",
       "      <th>regiao_ssp</th>\n",
       "      <th>ocorrencias_de_porte_de_entorpecentes</th>\n",
       "      <th>ocorrencias_de_trafico_de_entorpecentes</th>\n",
       "      <th>ocorrencias_de_apreensao_de_entorpecentes</th>\n",
       "      <th>ocorrencias_de_porte_ilegal_de_arma</th>\n",
       "      <th>numero_de_armas_de_fogo_apreendidas</th>\n",
       "      <th>numero_de_flagrantes_lavrados</th>\n",
       "      <th>numero_de_infratores_apreendidos_em_flagrante</th>\n",
       "      <th>numero_de_infratores_apreendidos_por_mandado</th>\n",
       "      <th>numero_de_pessoas_presas_em_flagrante</th>\n",
       "      <th>numero_de_pessoas_presas_por_mandado</th>\n",
       "      <th>numero_de_prisoes_efetuadas</th>\n",
       "      <th>numero_de_veiculos_recuperados</th>\n",
       "      <th>total_de_inqueritos_policiais_instaurados</th>\n",
       "    </tr>\n",
       "  </thead>\n",
       "  <tbody>\n",
       "    <tr>\n",
       "      <th>0</th>\n",
       "      <td>2002</td>\n",
       "      <td>1</td>\n",
       "      <td>3500105</td>\n",
       "      <td>Presidente Prudente</td>\n",
       "      <td>1.0</td>\n",
       "      <td>0.0</td>\n",
       "      <td>2.0</td>\n",
       "      <td>1.0</td>\n",
       "      <td>1.0</td>\n",
       "      <td>3.0</td>\n",
       "      <td>0.0</td>\n",
       "      <td>0.0</td>\n",
       "      <td>3.0</td>\n",
       "      <td>2.0</td>\n",
       "      <td>3.0</td>\n",
       "      <td>0.0</td>\n",
       "      <td>23.0</td>\n",
       "    </tr>\n",
       "    <tr>\n",
       "      <th>1</th>\n",
       "      <td>2002</td>\n",
       "      <td>2</td>\n",
       "      <td>3500105</td>\n",
       "      <td>Presidente Prudente</td>\n",
       "      <td>4.0</td>\n",
       "      <td>0.0</td>\n",
       "      <td>2.0</td>\n",
       "      <td>0.0</td>\n",
       "      <td>0.0</td>\n",
       "      <td>1.0</td>\n",
       "      <td>0.0</td>\n",
       "      <td>0.0</td>\n",
       "      <td>4.0</td>\n",
       "      <td>0.0</td>\n",
       "      <td>1.0</td>\n",
       "      <td>0.0</td>\n",
       "      <td>29.0</td>\n",
       "    </tr>\n",
       "    <tr>\n",
       "      <th>2</th>\n",
       "      <td>2002</td>\n",
       "      <td>3</td>\n",
       "      <td>3500105</td>\n",
       "      <td>Presidente Prudente</td>\n",
       "      <td>5.0</td>\n",
       "      <td>0.0</td>\n",
       "      <td>0.0</td>\n",
       "      <td>0.0</td>\n",
       "      <td>1.0</td>\n",
       "      <td>2.0</td>\n",
       "      <td>0.0</td>\n",
       "      <td>0.0</td>\n",
       "      <td>2.0</td>\n",
       "      <td>2.0</td>\n",
       "      <td>2.0</td>\n",
       "      <td>0.0</td>\n",
       "      <td>32.0</td>\n",
       "    </tr>\n",
       "    <tr>\n",
       "      <th>3</th>\n",
       "      <td>2002</td>\n",
       "      <td>4</td>\n",
       "      <td>3500105</td>\n",
       "      <td>Presidente Prudente</td>\n",
       "      <td>1.0</td>\n",
       "      <td>0.0</td>\n",
       "      <td>1.0</td>\n",
       "      <td>1.0</td>\n",
       "      <td>2.0</td>\n",
       "      <td>4.0</td>\n",
       "      <td>1.0</td>\n",
       "      <td>0.0</td>\n",
       "      <td>4.0</td>\n",
       "      <td>2.0</td>\n",
       "      <td>4.0</td>\n",
       "      <td>0.0</td>\n",
       "      <td>36.0</td>\n",
       "    </tr>\n",
       "    <tr>\n",
       "      <th>4</th>\n",
       "      <td>2002</td>\n",
       "      <td>5</td>\n",
       "      <td>3500105</td>\n",
       "      <td>Presidente Prudente</td>\n",
       "      <td>0.0</td>\n",
       "      <td>2.0</td>\n",
       "      <td>0.0</td>\n",
       "      <td>1.0</td>\n",
       "      <td>2.0</td>\n",
       "      <td>9.0</td>\n",
       "      <td>0.0</td>\n",
       "      <td>0.0</td>\n",
       "      <td>12.0</td>\n",
       "      <td>1.0</td>\n",
       "      <td>9.0</td>\n",
       "      <td>0.0</td>\n",
       "      <td>32.0</td>\n",
       "    </tr>\n",
       "  </tbody>\n",
       "</table>\n",
       "</div>"
      ],
      "text/plain": [
       "    ano  mes  id_municipio           regiao_ssp  \\\n",
       "0  2002    1       3500105  Presidente Prudente   \n",
       "1  2002    2       3500105  Presidente Prudente   \n",
       "2  2002    3       3500105  Presidente Prudente   \n",
       "3  2002    4       3500105  Presidente Prudente   \n",
       "4  2002    5       3500105  Presidente Prudente   \n",
       "\n",
       "   ocorrencias_de_porte_de_entorpecentes  \\\n",
       "0                                    1.0   \n",
       "1                                    4.0   \n",
       "2                                    5.0   \n",
       "3                                    1.0   \n",
       "4                                    0.0   \n",
       "\n",
       "   ocorrencias_de_trafico_de_entorpecentes  \\\n",
       "0                                      0.0   \n",
       "1                                      0.0   \n",
       "2                                      0.0   \n",
       "3                                      0.0   \n",
       "4                                      2.0   \n",
       "\n",
       "   ocorrencias_de_apreensao_de_entorpecentes  \\\n",
       "0                                        2.0   \n",
       "1                                        2.0   \n",
       "2                                        0.0   \n",
       "3                                        1.0   \n",
       "4                                        0.0   \n",
       "\n",
       "   ocorrencias_de_porte_ilegal_de_arma  numero_de_armas_de_fogo_apreendidas  \\\n",
       "0                                  1.0                                  1.0   \n",
       "1                                  0.0                                  0.0   \n",
       "2                                  0.0                                  1.0   \n",
       "3                                  1.0                                  2.0   \n",
       "4                                  1.0                                  2.0   \n",
       "\n",
       "   numero_de_flagrantes_lavrados  \\\n",
       "0                            3.0   \n",
       "1                            1.0   \n",
       "2                            2.0   \n",
       "3                            4.0   \n",
       "4                            9.0   \n",
       "\n",
       "   numero_de_infratores_apreendidos_em_flagrante  \\\n",
       "0                                            0.0   \n",
       "1                                            0.0   \n",
       "2                                            0.0   \n",
       "3                                            1.0   \n",
       "4                                            0.0   \n",
       "\n",
       "   numero_de_infratores_apreendidos_por_mandado  \\\n",
       "0                                           0.0   \n",
       "1                                           0.0   \n",
       "2                                           0.0   \n",
       "3                                           0.0   \n",
       "4                                           0.0   \n",
       "\n",
       "   numero_de_pessoas_presas_em_flagrante  \\\n",
       "0                                    3.0   \n",
       "1                                    4.0   \n",
       "2                                    2.0   \n",
       "3                                    4.0   \n",
       "4                                   12.0   \n",
       "\n",
       "   numero_de_pessoas_presas_por_mandado  numero_de_prisoes_efetuadas  \\\n",
       "0                                   2.0                          3.0   \n",
       "1                                   0.0                          1.0   \n",
       "2                                   2.0                          2.0   \n",
       "3                                   2.0                          4.0   \n",
       "4                                   1.0                          9.0   \n",
       "\n",
       "   numero_de_veiculos_recuperados  total_de_inqueritos_policiais_instaurados  \n",
       "0                             0.0                                       23.0  \n",
       "1                             0.0                                       29.0  \n",
       "2                             0.0                                       32.0  \n",
       "3                             0.0                                       36.0  \n",
       "4                             0.0                                       32.0  "
      ]
     },
     "execution_count": 132,
     "metadata": {},
     "output_type": "execute_result"
    }
   ],
   "source": [
    "#importando o dataframe\n",
    "df = pd.read_csv('br_sp_gov_ssp_produtividade_policial.csv')\n",
    "df.head()"
   ]
  },
  {
   "cell_type": "code",
   "execution_count": 133,
   "id": "982d4399",
   "metadata": {},
   "outputs": [
    {
     "name": "stdout",
     "output_type": "stream",
     "text": [
      "Esse dataframe contem (150336, 17), linhas e colunas\n",
      "\n",
      " Quantidade de itens nulos nas colunas \n",
      " ano                                                 0\n",
      "mes                                                 0\n",
      "id_municipio                                        0\n",
      "regiao_ssp                                          0\n",
      "ocorrencias_de_porte_de_entorpecentes            2580\n",
      "ocorrencias_de_trafico_de_entorpecentes          2580\n",
      "ocorrencias_de_apreensao_de_entorpecentes        2580\n",
      "ocorrencias_de_porte_ilegal_de_arma              2580\n",
      "numero_de_armas_de_fogo_apreendidas              2580\n",
      "numero_de_flagrantes_lavrados                    2580\n",
      "numero_de_infratores_apreendidos_em_flagrante    2580\n",
      "numero_de_infratores_apreendidos_por_mandado     2580\n",
      "numero_de_pessoas_presas_em_flagrante            2580\n",
      "numero_de_pessoas_presas_por_mandado             2580\n",
      "numero_de_prisoes_efetuadas                      2580\n",
      "numero_de_veiculos_recuperados                   2580\n",
      "total_de_inqueritos_policiais_instaurados        2580\n",
      "dtype: int64\n"
     ]
    }
   ],
   "source": [
    "#Dadaos do dataframe\n",
    "print(f'Esse dataframe contem {df.shape}, linhas e colunas')\n",
    "\n",
    "print(f'\\n Quantidade de itens nulos nas colunas \\n {df.isna().sum()}')"
   ]
  },
  {
   "cell_type": "code",
   "execution_count": 134,
   "id": "e48e654c",
   "metadata": {},
   "outputs": [
    {
     "data": {
      "text/html": [
       "<div>\n",
       "<style scoped>\n",
       "    .dataframe tbody tr th:only-of-type {\n",
       "        vertical-align: middle;\n",
       "    }\n",
       "\n",
       "    .dataframe tbody tr th {\n",
       "        vertical-align: top;\n",
       "    }\n",
       "\n",
       "    .dataframe thead th {\n",
       "        text-align: right;\n",
       "    }\n",
       "</style>\n",
       "<table border=\"1\" class=\"dataframe\">\n",
       "  <thead>\n",
       "    <tr style=\"text-align: right;\">\n",
       "      <th></th>\n",
       "      <th>ano</th>\n",
       "      <th>mes</th>\n",
       "      <th>id_municipio</th>\n",
       "      <th>regiao_ssp</th>\n",
       "      <th>ocorrencias_de_porte_de_entorpecentes</th>\n",
       "      <th>ocorrencias_de_trafico_de_entorpecentes</th>\n",
       "      <th>ocorrencias_de_apreensao_de_entorpecentes</th>\n",
       "      <th>ocorrencias_de_porte_ilegal_de_arma</th>\n",
       "      <th>numero_de_armas_de_fogo_apreendidas</th>\n",
       "      <th>numero_de_flagrantes_lavrados</th>\n",
       "      <th>numero_de_infratores_apreendidos_em_flagrante</th>\n",
       "      <th>numero_de_infratores_apreendidos_por_mandado</th>\n",
       "      <th>numero_de_pessoas_presas_em_flagrante</th>\n",
       "      <th>numero_de_pessoas_presas_por_mandado</th>\n",
       "      <th>numero_de_prisoes_efetuadas</th>\n",
       "      <th>numero_de_veiculos_recuperados</th>\n",
       "      <th>total_de_inqueritos_policiais_instaurados</th>\n",
       "    </tr>\n",
       "  </thead>\n",
       "  <tbody>\n",
       "    <tr>\n",
       "      <th>0</th>\n",
       "      <td>2002</td>\n",
       "      <td>1</td>\n",
       "      <td>3500105</td>\n",
       "      <td>Presidente Prudente</td>\n",
       "      <td>1.0</td>\n",
       "      <td>0.0</td>\n",
       "      <td>2.0</td>\n",
       "      <td>1.0</td>\n",
       "      <td>1.0</td>\n",
       "      <td>3.0</td>\n",
       "      <td>0.0</td>\n",
       "      <td>0.0</td>\n",
       "      <td>3.0</td>\n",
       "      <td>2.0</td>\n",
       "      <td>3.0</td>\n",
       "      <td>0.0</td>\n",
       "      <td>23.0</td>\n",
       "    </tr>\n",
       "    <tr>\n",
       "      <th>1</th>\n",
       "      <td>2002</td>\n",
       "      <td>2</td>\n",
       "      <td>3500105</td>\n",
       "      <td>Presidente Prudente</td>\n",
       "      <td>4.0</td>\n",
       "      <td>0.0</td>\n",
       "      <td>2.0</td>\n",
       "      <td>0.0</td>\n",
       "      <td>0.0</td>\n",
       "      <td>1.0</td>\n",
       "      <td>0.0</td>\n",
       "      <td>0.0</td>\n",
       "      <td>4.0</td>\n",
       "      <td>0.0</td>\n",
       "      <td>1.0</td>\n",
       "      <td>0.0</td>\n",
       "      <td>29.0</td>\n",
       "    </tr>\n",
       "    <tr>\n",
       "      <th>2</th>\n",
       "      <td>2002</td>\n",
       "      <td>3</td>\n",
       "      <td>3500105</td>\n",
       "      <td>Presidente Prudente</td>\n",
       "      <td>5.0</td>\n",
       "      <td>0.0</td>\n",
       "      <td>0.0</td>\n",
       "      <td>0.0</td>\n",
       "      <td>1.0</td>\n",
       "      <td>2.0</td>\n",
       "      <td>0.0</td>\n",
       "      <td>0.0</td>\n",
       "      <td>2.0</td>\n",
       "      <td>2.0</td>\n",
       "      <td>2.0</td>\n",
       "      <td>0.0</td>\n",
       "      <td>32.0</td>\n",
       "    </tr>\n",
       "    <tr>\n",
       "      <th>3</th>\n",
       "      <td>2002</td>\n",
       "      <td>4</td>\n",
       "      <td>3500105</td>\n",
       "      <td>Presidente Prudente</td>\n",
       "      <td>1.0</td>\n",
       "      <td>0.0</td>\n",
       "      <td>1.0</td>\n",
       "      <td>1.0</td>\n",
       "      <td>2.0</td>\n",
       "      <td>4.0</td>\n",
       "      <td>1.0</td>\n",
       "      <td>0.0</td>\n",
       "      <td>4.0</td>\n",
       "      <td>2.0</td>\n",
       "      <td>4.0</td>\n",
       "      <td>0.0</td>\n",
       "      <td>36.0</td>\n",
       "    </tr>\n",
       "    <tr>\n",
       "      <th>4</th>\n",
       "      <td>2002</td>\n",
       "      <td>5</td>\n",
       "      <td>3500105</td>\n",
       "      <td>Presidente Prudente</td>\n",
       "      <td>0.0</td>\n",
       "      <td>2.0</td>\n",
       "      <td>0.0</td>\n",
       "      <td>1.0</td>\n",
       "      <td>2.0</td>\n",
       "      <td>9.0</td>\n",
       "      <td>0.0</td>\n",
       "      <td>0.0</td>\n",
       "      <td>12.0</td>\n",
       "      <td>1.0</td>\n",
       "      <td>9.0</td>\n",
       "      <td>0.0</td>\n",
       "      <td>32.0</td>\n",
       "    </tr>\n",
       "  </tbody>\n",
       "</table>\n",
       "</div>"
      ],
      "text/plain": [
       "    ano  mes  id_municipio           regiao_ssp  \\\n",
       "0  2002    1       3500105  Presidente Prudente   \n",
       "1  2002    2       3500105  Presidente Prudente   \n",
       "2  2002    3       3500105  Presidente Prudente   \n",
       "3  2002    4       3500105  Presidente Prudente   \n",
       "4  2002    5       3500105  Presidente Prudente   \n",
       "\n",
       "   ocorrencias_de_porte_de_entorpecentes  \\\n",
       "0                                    1.0   \n",
       "1                                    4.0   \n",
       "2                                    5.0   \n",
       "3                                    1.0   \n",
       "4                                    0.0   \n",
       "\n",
       "   ocorrencias_de_trafico_de_entorpecentes  \\\n",
       "0                                      0.0   \n",
       "1                                      0.0   \n",
       "2                                      0.0   \n",
       "3                                      0.0   \n",
       "4                                      2.0   \n",
       "\n",
       "   ocorrencias_de_apreensao_de_entorpecentes  \\\n",
       "0                                        2.0   \n",
       "1                                        2.0   \n",
       "2                                        0.0   \n",
       "3                                        1.0   \n",
       "4                                        0.0   \n",
       "\n",
       "   ocorrencias_de_porte_ilegal_de_arma  numero_de_armas_de_fogo_apreendidas  \\\n",
       "0                                  1.0                                  1.0   \n",
       "1                                  0.0                                  0.0   \n",
       "2                                  0.0                                  1.0   \n",
       "3                                  1.0                                  2.0   \n",
       "4                                  1.0                                  2.0   \n",
       "\n",
       "   numero_de_flagrantes_lavrados  \\\n",
       "0                            3.0   \n",
       "1                            1.0   \n",
       "2                            2.0   \n",
       "3                            4.0   \n",
       "4                            9.0   \n",
       "\n",
       "   numero_de_infratores_apreendidos_em_flagrante  \\\n",
       "0                                            0.0   \n",
       "1                                            0.0   \n",
       "2                                            0.0   \n",
       "3                                            1.0   \n",
       "4                                            0.0   \n",
       "\n",
       "   numero_de_infratores_apreendidos_por_mandado  \\\n",
       "0                                           0.0   \n",
       "1                                           0.0   \n",
       "2                                           0.0   \n",
       "3                                           0.0   \n",
       "4                                           0.0   \n",
       "\n",
       "   numero_de_pessoas_presas_em_flagrante  \\\n",
       "0                                    3.0   \n",
       "1                                    4.0   \n",
       "2                                    2.0   \n",
       "3                                    4.0   \n",
       "4                                   12.0   \n",
       "\n",
       "   numero_de_pessoas_presas_por_mandado  numero_de_prisoes_efetuadas  \\\n",
       "0                                   2.0                          3.0   \n",
       "1                                   0.0                          1.0   \n",
       "2                                   2.0                          2.0   \n",
       "3                                   2.0                          4.0   \n",
       "4                                   1.0                          9.0   \n",
       "\n",
       "   numero_de_veiculos_recuperados  total_de_inqueritos_policiais_instaurados  \n",
       "0                             0.0                                       23.0  \n",
       "1                             0.0                                       29.0  \n",
       "2                             0.0                                       32.0  \n",
       "3                             0.0                                       36.0  \n",
       "4                             0.0                                       32.0  "
      ]
     },
     "execution_count": 134,
     "metadata": {},
     "output_type": "execute_result"
    }
   ],
   "source": [
    "#removendo os nulos e tratando o dataframe\n",
    "df.dropna()\n",
    "df.inplace = True\n",
    "\n",
    "#Dataframe sem os nulos\n",
    "df.head()"
   ]
  },
  {
   "cell_type": "code",
   "execution_count": 135,
   "id": "4aa42bb0",
   "metadata": {},
   "outputs": [
    {
     "data": {
      "text/html": [
       "<div>\n",
       "<style scoped>\n",
       "    .dataframe tbody tr th:only-of-type {\n",
       "        vertical-align: middle;\n",
       "    }\n",
       "\n",
       "    .dataframe tbody tr th {\n",
       "        vertical-align: top;\n",
       "    }\n",
       "\n",
       "    .dataframe thead th {\n",
       "        text-align: right;\n",
       "    }\n",
       "</style>\n",
       "<table border=\"1\" class=\"dataframe\">\n",
       "  <thead>\n",
       "    <tr style=\"text-align: right;\">\n",
       "      <th></th>\n",
       "      <th>ano</th>\n",
       "      <th>ocorrencias_de_porte_de_entorpecentes</th>\n",
       "      <th>ocorrencias_de_trafico_de_entorpecentes</th>\n",
       "      <th>ocorrencias_de_apreensao_de_entorpecentes</th>\n",
       "      <th>ocorrencias_de_porte_ilegal_de_arma</th>\n",
       "      <th>numero_de_armas_de_fogo_apreendidas</th>\n",
       "      <th>numero_de_flagrantes_lavrados</th>\n",
       "      <th>numero_de_infratores_apreendidos_em_flagrante</th>\n",
       "      <th>numero_de_infratores_apreendidos_por_mandado</th>\n",
       "      <th>numero_de_pessoas_presas_em_flagrante</th>\n",
       "      <th>numero_de_pessoas_presas_por_mandado</th>\n",
       "      <th>numero_de_prisoes_efetuadas</th>\n",
       "      <th>numero_de_veiculos_recuperados</th>\n",
       "      <th>total_de_inqueritos_policiais_instaurados</th>\n",
       "    </tr>\n",
       "  </thead>\n",
       "  <tbody>\n",
       "    <tr>\n",
       "      <th>0</th>\n",
       "      <td>2002</td>\n",
       "      <td>2343.0</td>\n",
       "      <td>1077.0</td>\n",
       "      <td>228.0</td>\n",
       "      <td>977.0</td>\n",
       "      <td>1922.0</td>\n",
       "      <td>3576.0</td>\n",
       "      <td>914.0</td>\n",
       "      <td>141.0</td>\n",
       "      <td>4229.0</td>\n",
       "      <td>2010.0</td>\n",
       "      <td>5408.0</td>\n",
       "      <td>2358.0</td>\n",
       "      <td>17726.0</td>\n",
       "    </tr>\n",
       "    <tr>\n",
       "      <th>1</th>\n",
       "      <td>2003</td>\n",
       "      <td>2227.0</td>\n",
       "      <td>1214.0</td>\n",
       "      <td>146.0</td>\n",
       "      <td>923.0</td>\n",
       "      <td>2141.0</td>\n",
       "      <td>3922.0</td>\n",
       "      <td>1039.0</td>\n",
       "      <td>192.0</td>\n",
       "      <td>4894.0</td>\n",
       "      <td>2438.0</td>\n",
       "      <td>6030.0</td>\n",
       "      <td>3078.0</td>\n",
       "      <td>21277.0</td>\n",
       "    </tr>\n",
       "    <tr>\n",
       "      <th>2</th>\n",
       "      <td>2004</td>\n",
       "      <td>2047.0</td>\n",
       "      <td>1040.0</td>\n",
       "      <td>194.0</td>\n",
       "      <td>799.0</td>\n",
       "      <td>1788.0</td>\n",
       "      <td>4089.0</td>\n",
       "      <td>560.0</td>\n",
       "      <td>213.0</td>\n",
       "      <td>4988.0</td>\n",
       "      <td>2246.0</td>\n",
       "      <td>5964.0</td>\n",
       "      <td>2506.0</td>\n",
       "      <td>17544.0</td>\n",
       "    </tr>\n",
       "    <tr>\n",
       "      <th>3</th>\n",
       "      <td>2005</td>\n",
       "      <td>1885.0</td>\n",
       "      <td>992.0</td>\n",
       "      <td>187.0</td>\n",
       "      <td>618.0</td>\n",
       "      <td>1545.0</td>\n",
       "      <td>3888.0</td>\n",
       "      <td>482.0</td>\n",
       "      <td>297.0</td>\n",
       "      <td>4779.0</td>\n",
       "      <td>2598.0</td>\n",
       "      <td>6184.0</td>\n",
       "      <td>2785.0</td>\n",
       "      <td>16020.0</td>\n",
       "    </tr>\n",
       "    <tr>\n",
       "      <th>4</th>\n",
       "      <td>2006</td>\n",
       "      <td>2078.0</td>\n",
       "      <td>1278.0</td>\n",
       "      <td>313.0</td>\n",
       "      <td>567.0</td>\n",
       "      <td>1645.0</td>\n",
       "      <td>4180.0</td>\n",
       "      <td>567.0</td>\n",
       "      <td>154.0</td>\n",
       "      <td>5747.0</td>\n",
       "      <td>3124.0</td>\n",
       "      <td>6964.0</td>\n",
       "      <td>2985.0</td>\n",
       "      <td>15926.0</td>\n",
       "    </tr>\n",
       "    <tr>\n",
       "      <th>5</th>\n",
       "      <td>2007</td>\n",
       "      <td>2080.0</td>\n",
       "      <td>1522.0</td>\n",
       "      <td>296.0</td>\n",
       "      <td>471.0</td>\n",
       "      <td>1331.0</td>\n",
       "      <td>4317.0</td>\n",
       "      <td>614.0</td>\n",
       "      <td>261.0</td>\n",
       "      <td>5455.0</td>\n",
       "      <td>2569.0</td>\n",
       "      <td>6656.0</td>\n",
       "      <td>2550.0</td>\n",
       "      <td>16752.0</td>\n",
       "    </tr>\n",
       "    <tr>\n",
       "      <th>6</th>\n",
       "      <td>2008</td>\n",
       "      <td>1714.0</td>\n",
       "      <td>1617.0</td>\n",
       "      <td>342.0</td>\n",
       "      <td>344.0</td>\n",
       "      <td>1012.0</td>\n",
       "      <td>4105.0</td>\n",
       "      <td>527.0</td>\n",
       "      <td>176.0</td>\n",
       "      <td>5043.0</td>\n",
       "      <td>2563.0</td>\n",
       "      <td>6529.0</td>\n",
       "      <td>2595.0</td>\n",
       "      <td>15102.0</td>\n",
       "    </tr>\n",
       "    <tr>\n",
       "      <th>7</th>\n",
       "      <td>2009</td>\n",
       "      <td>1474.0</td>\n",
       "      <td>1718.0</td>\n",
       "      <td>292.0</td>\n",
       "      <td>365.0</td>\n",
       "      <td>1270.0</td>\n",
       "      <td>4753.0</td>\n",
       "      <td>920.0</td>\n",
       "      <td>277.0</td>\n",
       "      <td>6031.0</td>\n",
       "      <td>2887.0</td>\n",
       "      <td>7479.0</td>\n",
       "      <td>3296.0</td>\n",
       "      <td>16977.0</td>\n",
       "    </tr>\n",
       "    <tr>\n",
       "      <th>8</th>\n",
       "      <td>2010</td>\n",
       "      <td>1203.0</td>\n",
       "      <td>1643.0</td>\n",
       "      <td>263.0</td>\n",
       "      <td>330.0</td>\n",
       "      <td>1057.0</td>\n",
       "      <td>4360.0</td>\n",
       "      <td>676.0</td>\n",
       "      <td>287.0</td>\n",
       "      <td>5431.0</td>\n",
       "      <td>2445.0</td>\n",
       "      <td>6765.0</td>\n",
       "      <td>3233.0</td>\n",
       "      <td>16163.0</td>\n",
       "    </tr>\n",
       "    <tr>\n",
       "      <th>9</th>\n",
       "      <td>2011</td>\n",
       "      <td>1670.0</td>\n",
       "      <td>1951.0</td>\n",
       "      <td>250.0</td>\n",
       "      <td>334.0</td>\n",
       "      <td>1071.0</td>\n",
       "      <td>4862.0</td>\n",
       "      <td>763.0</td>\n",
       "      <td>290.0</td>\n",
       "      <td>5866.0</td>\n",
       "      <td>2602.0</td>\n",
       "      <td>7347.0</td>\n",
       "      <td>3069.0</td>\n",
       "      <td>17965.0</td>\n",
       "    </tr>\n",
       "    <tr>\n",
       "      <th>10</th>\n",
       "      <td>2012</td>\n",
       "      <td>1875.0</td>\n",
       "      <td>2220.0</td>\n",
       "      <td>368.0</td>\n",
       "      <td>379.0</td>\n",
       "      <td>1063.0</td>\n",
       "      <td>5404.0</td>\n",
       "      <td>1261.0</td>\n",
       "      <td>306.0</td>\n",
       "      <td>6682.0</td>\n",
       "      <td>2496.0</td>\n",
       "      <td>7816.0</td>\n",
       "      <td>3305.0</td>\n",
       "      <td>19756.0</td>\n",
       "    </tr>\n",
       "    <tr>\n",
       "      <th>11</th>\n",
       "      <td>2013</td>\n",
       "      <td>1554.0</td>\n",
       "      <td>1972.0</td>\n",
       "      <td>370.0</td>\n",
       "      <td>416.0</td>\n",
       "      <td>1080.0</td>\n",
       "      <td>5890.0</td>\n",
       "      <td>1017.0</td>\n",
       "      <td>299.0</td>\n",
       "      <td>6960.0</td>\n",
       "      <td>2414.0</td>\n",
       "      <td>8537.0</td>\n",
       "      <td>3444.0</td>\n",
       "      <td>19775.0</td>\n",
       "    </tr>\n",
       "    <tr>\n",
       "      <th>12</th>\n",
       "      <td>2014</td>\n",
       "      <td>1155.0</td>\n",
       "      <td>1894.0</td>\n",
       "      <td>358.0</td>\n",
       "      <td>375.0</td>\n",
       "      <td>1039.0</td>\n",
       "      <td>5662.0</td>\n",
       "      <td>1195.0</td>\n",
       "      <td>244.0</td>\n",
       "      <td>6967.0</td>\n",
       "      <td>2627.0</td>\n",
       "      <td>8160.0</td>\n",
       "      <td>4270.0</td>\n",
       "      <td>18458.0</td>\n",
       "    </tr>\n",
       "    <tr>\n",
       "      <th>13</th>\n",
       "      <td>2015</td>\n",
       "      <td>1806.0</td>\n",
       "      <td>1878.0</td>\n",
       "      <td>293.0</td>\n",
       "      <td>389.0</td>\n",
       "      <td>1050.0</td>\n",
       "      <td>6180.0</td>\n",
       "      <td>1141.0</td>\n",
       "      <td>302.0</td>\n",
       "      <td>7360.0</td>\n",
       "      <td>3497.0</td>\n",
       "      <td>9568.0</td>\n",
       "      <td>3737.0</td>\n",
       "      <td>18356.0</td>\n",
       "    </tr>\n",
       "    <tr>\n",
       "      <th>14</th>\n",
       "      <td>2016</td>\n",
       "      <td>3005.0</td>\n",
       "      <td>1878.0</td>\n",
       "      <td>355.0</td>\n",
       "      <td>383.0</td>\n",
       "      <td>1030.0</td>\n",
       "      <td>6252.0</td>\n",
       "      <td>1326.0</td>\n",
       "      <td>370.0</td>\n",
       "      <td>7392.0</td>\n",
       "      <td>4178.0</td>\n",
       "      <td>10392.0</td>\n",
       "      <td>3504.0</td>\n",
       "      <td>18611.0</td>\n",
       "    </tr>\n",
       "    <tr>\n",
       "      <th>15</th>\n",
       "      <td>2017</td>\n",
       "      <td>3418.0</td>\n",
       "      <td>2138.0</td>\n",
       "      <td>348.0</td>\n",
       "      <td>397.0</td>\n",
       "      <td>1190.0</td>\n",
       "      <td>6093.0</td>\n",
       "      <td>1146.0</td>\n",
       "      <td>349.0</td>\n",
       "      <td>7155.0</td>\n",
       "      <td>4476.0</td>\n",
       "      <td>10395.0</td>\n",
       "      <td>3344.0</td>\n",
       "      <td>17689.0</td>\n",
       "    </tr>\n",
       "    <tr>\n",
       "      <th>16</th>\n",
       "      <td>2018</td>\n",
       "      <td>2752.0</td>\n",
       "      <td>2062.0</td>\n",
       "      <td>411.0</td>\n",
       "      <td>348.0</td>\n",
       "      <td>959.0</td>\n",
       "      <td>5992.0</td>\n",
       "      <td>1114.0</td>\n",
       "      <td>275.0</td>\n",
       "      <td>7089.0</td>\n",
       "      <td>5113.0</td>\n",
       "      <td>11005.0</td>\n",
       "      <td>2714.0</td>\n",
       "      <td>17084.0</td>\n",
       "    </tr>\n",
       "    <tr>\n",
       "      <th>17</th>\n",
       "      <td>2019</td>\n",
       "      <td>2863.0</td>\n",
       "      <td>2397.0</td>\n",
       "      <td>333.0</td>\n",
       "      <td>353.0</td>\n",
       "      <td>950.0</td>\n",
       "      <td>5782.0</td>\n",
       "      <td>892.0</td>\n",
       "      <td>360.0</td>\n",
       "      <td>6675.0</td>\n",
       "      <td>5407.0</td>\n",
       "      <td>11260.0</td>\n",
       "      <td>2420.0</td>\n",
       "      <td>17845.0</td>\n",
       "    </tr>\n",
       "    <tr>\n",
       "      <th>18</th>\n",
       "      <td>2020</td>\n",
       "      <td>1381.0</td>\n",
       "      <td>2267.0</td>\n",
       "      <td>290.0</td>\n",
       "      <td>295.0</td>\n",
       "      <td>782.0</td>\n",
       "      <td>5192.0</td>\n",
       "      <td>824.0</td>\n",
       "      <td>131.0</td>\n",
       "      <td>6006.0</td>\n",
       "      <td>3557.0</td>\n",
       "      <td>8757.0</td>\n",
       "      <td>1791.0</td>\n",
       "      <td>16097.0</td>\n",
       "    </tr>\n",
       "    <tr>\n",
       "      <th>19</th>\n",
       "      <td>2021</td>\n",
       "      <td>837.0</td>\n",
       "      <td>1467.0</td>\n",
       "      <td>219.0</td>\n",
       "      <td>211.0</td>\n",
       "      <td>593.0</td>\n",
       "      <td>3623.0</td>\n",
       "      <td>503.0</td>\n",
       "      <td>98.0</td>\n",
       "      <td>4117.0</td>\n",
       "      <td>2497.0</td>\n",
       "      <td>6070.0</td>\n",
       "      <td>1097.0</td>\n",
       "      <td>12411.0</td>\n",
       "    </tr>\n",
       "  </tbody>\n",
       "</table>\n",
       "</div>"
      ],
      "text/plain": [
       "     ano  ocorrencias_de_porte_de_entorpecentes  \\\n",
       "0   2002                                 2343.0   \n",
       "1   2003                                 2227.0   \n",
       "2   2004                                 2047.0   \n",
       "3   2005                                 1885.0   \n",
       "4   2006                                 2078.0   \n",
       "5   2007                                 2080.0   \n",
       "6   2008                                 1714.0   \n",
       "7   2009                                 1474.0   \n",
       "8   2010                                 1203.0   \n",
       "9   2011                                 1670.0   \n",
       "10  2012                                 1875.0   \n",
       "11  2013                                 1554.0   \n",
       "12  2014                                 1155.0   \n",
       "13  2015                                 1806.0   \n",
       "14  2016                                 3005.0   \n",
       "15  2017                                 3418.0   \n",
       "16  2018                                 2752.0   \n",
       "17  2019                                 2863.0   \n",
       "18  2020                                 1381.0   \n",
       "19  2021                                  837.0   \n",
       "\n",
       "    ocorrencias_de_trafico_de_entorpecentes  \\\n",
       "0                                    1077.0   \n",
       "1                                    1214.0   \n",
       "2                                    1040.0   \n",
       "3                                     992.0   \n",
       "4                                    1278.0   \n",
       "5                                    1522.0   \n",
       "6                                    1617.0   \n",
       "7                                    1718.0   \n",
       "8                                    1643.0   \n",
       "9                                    1951.0   \n",
       "10                                   2220.0   \n",
       "11                                   1972.0   \n",
       "12                                   1894.0   \n",
       "13                                   1878.0   \n",
       "14                                   1878.0   \n",
       "15                                   2138.0   \n",
       "16                                   2062.0   \n",
       "17                                   2397.0   \n",
       "18                                   2267.0   \n",
       "19                                   1467.0   \n",
       "\n",
       "    ocorrencias_de_apreensao_de_entorpecentes  \\\n",
       "0                                       228.0   \n",
       "1                                       146.0   \n",
       "2                                       194.0   \n",
       "3                                       187.0   \n",
       "4                                       313.0   \n",
       "5                                       296.0   \n",
       "6                                       342.0   \n",
       "7                                       292.0   \n",
       "8                                       263.0   \n",
       "9                                       250.0   \n",
       "10                                      368.0   \n",
       "11                                      370.0   \n",
       "12                                      358.0   \n",
       "13                                      293.0   \n",
       "14                                      355.0   \n",
       "15                                      348.0   \n",
       "16                                      411.0   \n",
       "17                                      333.0   \n",
       "18                                      290.0   \n",
       "19                                      219.0   \n",
       "\n",
       "    ocorrencias_de_porte_ilegal_de_arma  numero_de_armas_de_fogo_apreendidas  \\\n",
       "0                                 977.0                               1922.0   \n",
       "1                                 923.0                               2141.0   \n",
       "2                                 799.0                               1788.0   \n",
       "3                                 618.0                               1545.0   \n",
       "4                                 567.0                               1645.0   \n",
       "5                                 471.0                               1331.0   \n",
       "6                                 344.0                               1012.0   \n",
       "7                                 365.0                               1270.0   \n",
       "8                                 330.0                               1057.0   \n",
       "9                                 334.0                               1071.0   \n",
       "10                                379.0                               1063.0   \n",
       "11                                416.0                               1080.0   \n",
       "12                                375.0                               1039.0   \n",
       "13                                389.0                               1050.0   \n",
       "14                                383.0                               1030.0   \n",
       "15                                397.0                               1190.0   \n",
       "16                                348.0                                959.0   \n",
       "17                                353.0                                950.0   \n",
       "18                                295.0                                782.0   \n",
       "19                                211.0                                593.0   \n",
       "\n",
       "    numero_de_flagrantes_lavrados  \\\n",
       "0                          3576.0   \n",
       "1                          3922.0   \n",
       "2                          4089.0   \n",
       "3                          3888.0   \n",
       "4                          4180.0   \n",
       "5                          4317.0   \n",
       "6                          4105.0   \n",
       "7                          4753.0   \n",
       "8                          4360.0   \n",
       "9                          4862.0   \n",
       "10                         5404.0   \n",
       "11                         5890.0   \n",
       "12                         5662.0   \n",
       "13                         6180.0   \n",
       "14                         6252.0   \n",
       "15                         6093.0   \n",
       "16                         5992.0   \n",
       "17                         5782.0   \n",
       "18                         5192.0   \n",
       "19                         3623.0   \n",
       "\n",
       "    numero_de_infratores_apreendidos_em_flagrante  \\\n",
       "0                                           914.0   \n",
       "1                                          1039.0   \n",
       "2                                           560.0   \n",
       "3                                           482.0   \n",
       "4                                           567.0   \n",
       "5                                           614.0   \n",
       "6                                           527.0   \n",
       "7                                           920.0   \n",
       "8                                           676.0   \n",
       "9                                           763.0   \n",
       "10                                         1261.0   \n",
       "11                                         1017.0   \n",
       "12                                         1195.0   \n",
       "13                                         1141.0   \n",
       "14                                         1326.0   \n",
       "15                                         1146.0   \n",
       "16                                         1114.0   \n",
       "17                                          892.0   \n",
       "18                                          824.0   \n",
       "19                                          503.0   \n",
       "\n",
       "    numero_de_infratores_apreendidos_por_mandado  \\\n",
       "0                                          141.0   \n",
       "1                                          192.0   \n",
       "2                                          213.0   \n",
       "3                                          297.0   \n",
       "4                                          154.0   \n",
       "5                                          261.0   \n",
       "6                                          176.0   \n",
       "7                                          277.0   \n",
       "8                                          287.0   \n",
       "9                                          290.0   \n",
       "10                                         306.0   \n",
       "11                                         299.0   \n",
       "12                                         244.0   \n",
       "13                                         302.0   \n",
       "14                                         370.0   \n",
       "15                                         349.0   \n",
       "16                                         275.0   \n",
       "17                                         360.0   \n",
       "18                                         131.0   \n",
       "19                                          98.0   \n",
       "\n",
       "    numero_de_pessoas_presas_em_flagrante  \\\n",
       "0                                  4229.0   \n",
       "1                                  4894.0   \n",
       "2                                  4988.0   \n",
       "3                                  4779.0   \n",
       "4                                  5747.0   \n",
       "5                                  5455.0   \n",
       "6                                  5043.0   \n",
       "7                                  6031.0   \n",
       "8                                  5431.0   \n",
       "9                                  5866.0   \n",
       "10                                 6682.0   \n",
       "11                                 6960.0   \n",
       "12                                 6967.0   \n",
       "13                                 7360.0   \n",
       "14                                 7392.0   \n",
       "15                                 7155.0   \n",
       "16                                 7089.0   \n",
       "17                                 6675.0   \n",
       "18                                 6006.0   \n",
       "19                                 4117.0   \n",
       "\n",
       "    numero_de_pessoas_presas_por_mandado  numero_de_prisoes_efetuadas  \\\n",
       "0                                 2010.0                       5408.0   \n",
       "1                                 2438.0                       6030.0   \n",
       "2                                 2246.0                       5964.0   \n",
       "3                                 2598.0                       6184.0   \n",
       "4                                 3124.0                       6964.0   \n",
       "5                                 2569.0                       6656.0   \n",
       "6                                 2563.0                       6529.0   \n",
       "7                                 2887.0                       7479.0   \n",
       "8                                 2445.0                       6765.0   \n",
       "9                                 2602.0                       7347.0   \n",
       "10                                2496.0                       7816.0   \n",
       "11                                2414.0                       8537.0   \n",
       "12                                2627.0                       8160.0   \n",
       "13                                3497.0                       9568.0   \n",
       "14                                4178.0                      10392.0   \n",
       "15                                4476.0                      10395.0   \n",
       "16                                5113.0                      11005.0   \n",
       "17                                5407.0                      11260.0   \n",
       "18                                3557.0                       8757.0   \n",
       "19                                2497.0                       6070.0   \n",
       "\n",
       "    numero_de_veiculos_recuperados  total_de_inqueritos_policiais_instaurados  \n",
       "0                           2358.0                                    17726.0  \n",
       "1                           3078.0                                    21277.0  \n",
       "2                           2506.0                                    17544.0  \n",
       "3                           2785.0                                    16020.0  \n",
       "4                           2985.0                                    15926.0  \n",
       "5                           2550.0                                    16752.0  \n",
       "6                           2595.0                                    15102.0  \n",
       "7                           3296.0                                    16977.0  \n",
       "8                           3233.0                                    16163.0  \n",
       "9                           3069.0                                    17965.0  \n",
       "10                          3305.0                                    19756.0  \n",
       "11                          3444.0                                    19775.0  \n",
       "12                          4270.0                                    18458.0  \n",
       "13                          3737.0                                    18356.0  \n",
       "14                          3504.0                                    18611.0  \n",
       "15                          3344.0                                    17689.0  \n",
       "16                          2714.0                                    17084.0  \n",
       "17                          2420.0                                    17845.0  \n",
       "18                          1791.0                                    16097.0  \n",
       "19                          1097.0                                    12411.0  "
      ]
     },
     "execution_count": 135,
     "metadata": {},
     "output_type": "execute_result"
    }
   ],
   "source": [
    "#Selecionando os dados da cidade de Santos,somando os dados dos anos, e somando as colunas numericas\n",
    "\n",
    "\n",
    "colunas_numericas = [\n",
    "                   col for col in df.select_dtypes(include='number').columns\n",
    "                    if col not in ['mes','id_municipio','ano']\n",
    "                     ]\n",
    "\n",
    "santos = df[df['regiao_ssp'] == 'Santos'].groupby('ano')[colunas_numericas].sum().reset_index()\n",
    "santos"
   ]
  },
  {
   "cell_type": "code",
   "execution_count": 136,
   "id": "928c0080",
   "metadata": {},
   "outputs": [
    {
     "data": {
      "image/png": "[encoded data removed]",
      "text/plain": [
       "<Figure size 1200x600 with 1 Axes>"
      ]
     },
     "metadata": {},
     "output_type": "display_data"
    }
   ],
   "source": [
    "#histrograma sobre ocorrencias de porte ilegal de arma\n",
    "plt.figure(figsize= (12,6))\n",
    "sns.lineplot(x='ano', y='ocorrencias_de_porte_ilegal_de_arma', data= santos, label='Ocorrencias', color= 'red', marker= 'd')\n",
    "sns.lineplot(x='ano', y='numero_de_armas_de_fogo_apreendidas', data= santos, label= 'Apreenções', color= 'blue', marker= 'd') \n",
    "plt.title('Correlação de ocorrências e o número de armas apreendidas')\n",
    "plt.xlabel('Anos')\n",
    "plt.ylabel('Ocorrências e apreenõoes')\n",
    "plt.legend()\n",
    "plt.xticks(santos['ano'], rotation =45)\n",
    "plt.grid(True)\n",
    "plt.tight_layout()"
   ]
  },
  {
   "cell_type": "markdown",
   "id": "7d5d0c9b",
   "metadata": {},
   "source": [
    "É notável que o número de apreenções é superior ao de denúncias mas também é fato que eum uma ocorrência pode se apreender várias armas.\n",
    "\n",
    "A uma queda notável de ocorrencias, isso é um dado interessante."
   ]
  },
  {
   "cell_type": "markdown",
   "id": "e920b899",
   "metadata": {},
   "source": [
    "#### Iremos analisar os numeros de inqueritos por ano agora\n",
    "\n",
    "Sem representação graficas é possivel ver que os números são bem altos já, porém como quase todos os outros índices ele vem caindo drasticamente, iremos fazer um grafico de disperção para notar essa queda e ver quando ela \"começa\""
   ]
  },
  {
   "cell_type": "code",
   "execution_count": 137,
   "id": "39735d64",
   "metadata": {},
   "outputs": [
    {
     "data": {
      "application/vnd.plotly.v1+json": {
       "config": {
        "plotlyServerURL": "https://plot.ly"
       },
       "data": [
        {
         "hovertemplate": "Nº de Inqueritos: %{y}<extra></extra>",
         "marker": {
          "color": "#AC0000"
         },
         "opacity": 0.5,
         "type": "bar",
         "x": {
          "bdata": "0gfTB9QH1QfWB9cH2AfZB9oH2wfcB90H3gffB+AH4QfiB+MH5AflBw==",
          "dtype": "i2"
         },
         "y": {
          "bdata": "AAAAAIBP0UAAAAAAQMfUQAAAAAAAItFAAAAAAABKz0AAAAAAABvPQAAAAAAAXNBAAAAAAAB/zUAAAAAAQJTQQAAAAACAkc9AAAAAAECL0UAAAAAAAEvTQAAAAADAT9NAAAAAAIAG0kAAAAAAAO3RQAAAAADALNJAAAAAAEBG0UAAAAAAAK/QQAAAAABAbdFAAAAAAIBwz0AAAAAAgD3IQA==",
          "dtype": "f8"
         }
        }
       ],
       "layout": {
        "template": {
         "data": {
          "bar": [
           {
            "error_x": {
             "color": "#2a3f5f"
            },
            "error_y": {
             "color": "#2a3f5f"
            },
            "marker": {
             "line": {
              "color": "#E5ECF6",
              "width": 0.5
             },
             "pattern": {
              "fillmode": "overlay",
              "size": 10,
              "solidity": 0.2
             }
            },
            "type": "bar"
           }
          ],
          "barpolar": [
           {
            "marker": {
             "line": {
              "color": "#E5ECF6",
              "width": 0.5
             },
             "pattern": {
              "fillmode": "overlay",
              "size": 10,
              "solidity": 0.2
             }
            },
            "type": "barpolar"
           }
          ],
          "carpet": [
           {
            "aaxis": {
             "endlinecolor": "#2a3f5f",
             "gridcolor": "white",
             "linecolor": "white",
             "minorgridcolor": "white",
             "startlinecolor": "#2a3f5f"
            },
            "baxis": {
             "endlinecolor": "#2a3f5f",
             "gridcolor": "white",
             "linecolor": "white",
             "minorgridcolor": "white",
             "startlinecolor": "#2a3f5f"
            },
            "type": "carpet"
           }
          ],
          "choropleth": [
           {
            "colorbar": {
             "outlinewidth": 0,
             "ticks": ""
            },
            "type": "choropleth"
           }
          ],
          "contour": [
           {
            "colorbar": {
             "outlinewidth": 0,
             "ticks": ""
            },
            "colorscale": [
             [
              0,
              "#0d0887"
             ],
             [
              0.1111111111111111,
              "#46039f"
             ],
             [
              0.2222222222222222,
              "#7201a8"
             ],
             [
              0.3333333333333333,
              "#9c179e"
             ],
             [
              0.4444444444444444,
              "#bd3786"
             ],
             [
              0.5555555555555556,
              "#d8576b"
             ],
             [
              0.6666666666666666,
              "#ed7953"
             ],
             [
              0.7777777777777778,
              "#fb9f3a"
             ],
             [
              0.8888888888888888,
              "#fdca26"
             ],
             [
              1,
              "#f0f921"
             ]
            ],
            "type": "contour"
           }
          ],
          "contourcarpet": [
           {
            "colorbar": {
             "outlinewidth": 0,
             "ticks": ""
            },
            "type": "contourcarpet"
           }
          ],
          "heatmap": [
           {
            "colorbar": {
             "outlinewidth": 0,
             "ticks": ""
            },
            "colorscale": [
             [
              0,
              "#0d0887"
             ],
             [
              0.1111111111111111,
              "#46039f"
             ],
             [
              0.2222222222222222,
              "#7201a8"
             ],
             [
              0.3333333333333333,
              "#9c179e"
             ],
             [
              0.4444444444444444,
              "#bd3786"
             ],
             [
              0.5555555555555556,
              "#d8576b"
             ],
             [
              0.6666666666666666,
              "#ed7953"
             ],
             [
              0.7777777777777778,
              "#fb9f3a"
             ],
             [
              0.8888888888888888,
              "#fdca26"
             ],
             [
              1,
              "#f0f921"
             ]
            ],
            "type": "heatmap"
           }
          ],
          "histogram": [
           {
            "marker": {
             "pattern": {
              "fillmode": "overlay",
              "size": 10,
              "solidity": 0.2
             }
            },
            "type": "histogram"
           }
          ],
          "histogram2d": [
           {
            "colorbar": {
             "outlinewidth": 0,
             "ticks": ""
            },
            "colorscale": [
             [
              0,
              "#0d0887"
             ],
             [
              0.1111111111111111,
              "#46039f"
             ],
             [
              0.2222222222222222,
              "#7201a8"
             ],
             [
              0.3333333333333333,
              "#9c179e"
             ],
             [
              0.4444444444444444,
              "#bd3786"
             ],
             [
              0.5555555555555556,
              "#d8576b"
             ],
             [
              0.6666666666666666,
              "#ed7953"
             ],
             [
              0.7777777777777778,
              "#fb9f3a"
             ],
             [
              0.8888888888888888,
              "#fdca26"
             ],
             [
              1,
              "#f0f921"
             ]
            ],
            "type": "histogram2d"
           }
          ],
          "histogram2dcontour": [
           {
            "colorbar": {
             "outlinewidth": 0,
             "ticks": ""
            },
            "colorscale": [
             [
              0,
              "#0d0887"
             ],
             [
              0.1111111111111111,
              "#46039f"
             ],
             [
              0.2222222222222222,
              "#7201a8"
             ],
             [
              0.3333333333333333,
              "#9c179e"
             ],
             [
              0.4444444444444444,
              "#bd3786"
             ],
             [
              0.5555555555555556,
              "#d8576b"
             ],
             [
              0.6666666666666666,
              "#ed7953"
             ],
             [
              0.7777777777777778,
              "#fb9f3a"
             ],
             [
              0.8888888888888888,
              "#fdca26"
             ],
             [
              1,
              "#f0f921"
             ]
            ],
            "type": "histogram2dcontour"
           }
          ],
          "mesh3d": [
           {
            "colorbar": {
             "outlinewidth": 0,
             "ticks": ""
            },
            "type": "mesh3d"
           }
          ],
          "parcoords": [
           {
            "line": {
             "colorbar": {
              "outlinewidth": 0,
              "ticks": ""
             }
            },
            "type": "parcoords"
           }
          ],
          "pie": [
           {
            "automargin": true,
            "type": "pie"
           }
          ],
          "scatter": [
           {
            "fillpattern": {
             "fillmode": "overlay",
             "size": 10,
             "solidity": 0.2
            },
            "type": "scatter"
           }
          ],
          "scatter3d": [
           {
            "line": {
             "colorbar": {
              "outlinewidth": 0,
              "ticks": ""
             }
            },
            "marker": {
             "colorbar": {
              "outlinewidth": 0,
              "ticks": ""
             }
            },
            "type": "scatter3d"
           }
          ],
          "scattercarpet": [
           {
            "marker": {
             "colorbar": {
              "outlinewidth": 0,
              "ticks": ""
             }
            },
            "type": "scattercarpet"
           }
          ],
          "scattergeo": [
           {
            "marker": {
             "colorbar": {
              "outlinewidth": 0,
              "ticks": ""
             }
            },
            "type": "scattergeo"
           }
          ],
          "scattergl": [
           {
            "marker": {
             "colorbar": {
              "outlinewidth": 0,
              "ticks": ""
             }
            },
            "type": "scattergl"
           }
          ],
          "scattermap": [
           {
            "marker": {
             "colorbar": {
              "outlinewidth": 0,
              "ticks": ""
             }
            },
            "type": "scattermap"
           }
          ],
          "scattermapbox": [
           {
            "marker": {
             "colorbar": {
              "outlinewidth": 0,
              "ticks": ""
             }
            },
            "type": "scattermapbox"
           }
          ],
          "scatterpolar": [
           {
            "marker": {
             "colorbar": {
              "outlinewidth": 0,
              "ticks": ""
             }
            },
            "type": "scatterpolar"
           }
          ],
          "scatterpolargl": [
           {
            "marker": {
             "colorbar": {
              "outlinewidth": 0,
              "ticks": ""
             }
            },
            "type": "scatterpolargl"
           }
          ],
          "scatterternary": [
           {
            "marker": {
             "colorbar": {
              "outlinewidth": 0,
              "ticks": ""
             }
            },
            "type": "scatterternary"
           }
          ],
          "surface": [
           {
            "colorbar": {
             "outlinewidth": 0,
             "ticks": ""
            },
            "colorscale": [
             [
              0,
              "#0d0887"
             ],
             [
              0.1111111111111111,
              "#46039f"
             ],
             [
              0.2222222222222222,
              "#7201a8"
             ],
             [
              0.3333333333333333,
              "#9c179e"
             ],
             [
              0.4444444444444444,
              "#bd3786"
             ],
             [
              0.5555555555555556,
              "#d8576b"
             ],
             [
              0.6666666666666666,
              "#ed7953"
             ],
             [
              0.7777777777777778,
              "#fb9f3a"
             ],
             [
              0.8888888888888888,
              "#fdca26"
             ],
             [
              1,
              "#f0f921"
             ]
            ],
            "type": "surface"
           }
          ],
          "table": [
           {
            "cells": {
             "fill": {
              "color": "#EBF0F8"
             },
             "line": {
              "color": "white"
             }
            },
            "header": {
             "fill": {
              "color": "#C8D4E3"
             },
             "line": {
              "color": "white"
             }
            },
            "type": "table"
           }
          ]
         },
         "layout": {
          "annotationdefaults": {
           "arrowcolor": "#2a3f5f",
           "arrowhead": 0,
           "arrowwidth": 1
          },
          "autotypenumbers": "strict",
          "coloraxis": {
           "colorbar": {
            "outlinewidth": 0,
            "ticks": ""
           }
          },
          "colorscale": {
           "diverging": [
            [
             0,
             "#8e0152"
            ],
            [
             0.1,
             "#c51b7d"
            ],
            [
             0.2,
             "#de77ae"
            ],
            [
             0.3,
             "#f1b6da"
            ],
            [
             0.4,
             "#fde0ef"
            ],
            [
             0.5,
             "#f7f7f7"
            ],
            [
             0.6,
             "#e6f5d0"
            ],
            [
             0.7,
             "#b8e186"
            ],
            [
             0.8,
             "#7fbc41"
            ],
            [
             0.9,
             "#4d9221"
            ],
            [
             1,
             "#276419"
            ]
           ],
           "sequential": [
            [
             0,
             "#0d0887"
            ],
            [
             0.1111111111111111,
             "#46039f"
            ],
            [
             0.2222222222222222,
             "#7201a8"
            ],
            [
             0.3333333333333333,
             "#9c179e"
            ],
            [
             0.4444444444444444,
             "#bd3786"
            ],
            [
             0.5555555555555556,
             "#d8576b"
            ],
            [
             0.6666666666666666,
             "#ed7953"
            ],
            [
             0.7777777777777778,
             "#fb9f3a"
            ],
            [
             0.8888888888888888,
             "#fdca26"
            ],
            [
             1,
             "#f0f921"
            ]
           ],
           "sequentialminus": [
            [
             0,
             "#0d0887"
            ],
            [
             0.1111111111111111,
             "#46039f"
            ],
            [
             0.2222222222222222,
             "#7201a8"
            ],
            [
             0.3333333333333333,
             "#9c179e"
            ],
            [
             0.4444444444444444,
             "#bd3786"
            ],
            [
             0.5555555555555556,
             "#d8576b"
            ],
            [
             0.6666666666666666,
             "#ed7953"
            ],
            [
             0.7777777777777778,
             "#fb9f3a"
            ],
            [
             0.8888888888888888,
             "#fdca26"
            ],
            [
             1,
             "#f0f921"
            ]
           ]
          },
          "colorway": [
           "#636efa",
           "#EF553B",
           "#00cc96",
           "#ab63fa",
           "#FFA15A",
           "#19d3f3",
           "#FF6692",
           "#B6E880",
           "#FF97FF",
           "#FECB52"
          ],
          "font": {
           "color": "#2a3f5f"
          },
          "geo": {
           "bgcolor": "white",
           "lakecolor": "white",
           "landcolor": "#E5ECF6",
           "showlakes": true,
           "showland": true,
           "subunitcolor": "white"
          },
          "hoverlabel": {
           "align": "left"
          },
          "hovermode": "closest",
          "mapbox": {
           "style": "light"
          },
          "paper_bgcolor": "white",
          "plot_bgcolor": "#E5ECF6",
          "polar": {
           "angularaxis": {
            "gridcolor": "white",
            "linecolor": "white",
            "ticks": ""
           },
           "bgcolor": "#E5ECF6",
           "radialaxis": {
            "gridcolor": "white",
            "linecolor": "white",
            "ticks": ""
           }
          },
          "scene": {
           "xaxis": {
            "backgroundcolor": "#E5ECF6",
            "gridcolor": "white",
            "gridwidth": 2,
            "linecolor": "white",
            "showbackground": true,
            "ticks": "",
            "zerolinecolor": "white"
           },
           "yaxis": {
            "backgroundcolor": "#E5ECF6",
            "gridcolor": "white",
            "gridwidth": 2,
            "linecolor": "white",
            "showbackground": true,
            "ticks": "",
            "zerolinecolor": "white"
           },
           "zaxis": {
            "backgroundcolor": "#E5ECF6",
            "gridcolor": "white",
            "gridwidth": 2,
            "linecolor": "white",
            "showbackground": true,
            "ticks": "",
            "zerolinecolor": "white"
           }
          },
          "shapedefaults": {
           "line": {
            "color": "#2a3f5f"
           }
          },
          "ternary": {
           "aaxis": {
            "gridcolor": "white",
            "linecolor": "white",
            "ticks": ""
           },
           "baxis": {
            "gridcolor": "white",
            "linecolor": "white",
            "ticks": ""
           },
           "bgcolor": "#E5ECF6",
           "caxis": {
            "gridcolor": "white",
            "linecolor": "white",
            "ticks": ""
           }
          },
          "title": {
           "x": 0.05
          },
          "xaxis": {
           "automargin": true,
           "gridcolor": "white",
           "linecolor": "white",
           "ticks": "",
           "title": {
            "standoff": 15
           },
           "zerolinecolor": "white",
           "zerolinewidth": 2
          },
          "yaxis": {
           "automargin": true,
           "gridcolor": "white",
           "linecolor": "white",
           "ticks": "",
           "title": {
            "standoff": 15
           },
           "zerolinecolor": "white",
           "zerolinewidth": 2
          }
         }
        },
        "title": {
         "text": "INQUERITOS POR ANO"
        },
        "xaxis": {
         "title": {
          "text": "Anos"
         }
        },
        "yaxis": {
         "title": {
          "text": "Número de inqueritos"
         }
        }
       }
      }
     },
     "metadata": {},
     "output_type": "display_data"
    }
   ],
   "source": [
    "#Criando o grafico com go.scatter\n",
    "scatter = go.Bar(x = santos.ano, y =santos.total_de_inqueritos_policiais_instaurados,\n",
    "                     marker ={'color': \"#AC0000\"}, opacity = 0.5, hovertemplate='Nº de Inqueritos: %{y}<extra></extra>') \n",
    "\n",
    "#configurando o layout\n",
    "layout = go.Layout(title = 'INQUERITOS POR ANO',\n",
    "                   xaxis ={'title': 'Anos'},\n",
    "                   yaxis ={'title': 'Número de inqueritos'})\n",
    "\n",
    "fig = go.Figure(data=[scatter], layout= layout)\n",
    "fig.show()"
   ]
  }
 ],
 "metadata": {
  "kernelspec": {
   "display_name": "Python 3",
   "language": "python",
   "name": "python3"
  },
  "language_info": {
   "codemirror_mode": {
    "name": "ipython",
    "version": 3
   },
   "file_extension": ".py",
   "mimetype": "text/x-python",
   "name": "python",
   "nbconvert_exporter": "python",
   "pygments_lexer": "ipython3",
   "version": "3.13.3"
  }
 },
 "nbformat": 4,
 "nbformat_minor": 5
}
