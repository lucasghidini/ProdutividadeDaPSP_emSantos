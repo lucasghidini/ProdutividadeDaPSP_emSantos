{
 "cells": [
  {
   "cell_type": "markdown",
   "id": "6f02b530",
   "metadata": {},
   "source": [
    "# Análisando dados da produtividade da policia do estado de São Paulo em Santos\n",
    "\n",
    "Segurança no Estado de São Paulo,\n",
    "Dados estatísticos da Secretaria de Segurança Pública do Estado de São Paulo.\n",
    "#### Organização\n",
    "Governo de São Paulo\n",
    "#### Cobertura temporal\n",
    "2002 - 2021"
   ]
  },
  {
   "cell_type": "code",
   "execution_count": 112,
   "id": "2c2929c6",
   "metadata": {},
   "outputs": [
    {
     "data": {
      "text/html": [
       "<svg  width=\"550\" height=\"55\"><rect x=\"0\" y=\"0\" width=\"55\" height=\"55\" style=\"fill:#a1c9f4;stroke-width:2;stroke:rgb(255,255,255)\"/><rect x=\"55\" y=\"0\" width=\"55\" height=\"55\" style=\"fill:#ffb482;stroke-width:2;stroke:rgb(255,255,255)\"/><rect x=\"110\" y=\"0\" width=\"55\" height=\"55\" style=\"fill:#8de5a1;stroke-width:2;stroke:rgb(255,255,255)\"/><rect x=\"165\" y=\"0\" width=\"55\" height=\"55\" style=\"fill:#ff9f9b;stroke-width:2;stroke:rgb(255,255,255)\"/><rect x=\"220\" y=\"0\" width=\"55\" height=\"55\" style=\"fill:#d0bbff;stroke-width:2;stroke:rgb(255,255,255)\"/><rect x=\"275\" y=\"0\" width=\"55\" height=\"55\" style=\"fill:#debb9b;stroke-width:2;stroke:rgb(255,255,255)\"/><rect x=\"330\" y=\"0\" width=\"55\" height=\"55\" style=\"fill:#fab0e4;stroke-width:2;stroke:rgb(255,255,255)\"/><rect x=\"385\" y=\"0\" width=\"55\" height=\"55\" style=\"fill:#cfcfcf;stroke-width:2;stroke:rgb(255,255,255)\"/><rect x=\"440\" y=\"0\" width=\"55\" height=\"55\" style=\"fill:#fffea3;stroke-width:2;stroke:rgb(255,255,255)\"/><rect x=\"495\" y=\"0\" width=\"55\" height=\"55\" style=\"fill:#b9f2f0;stroke-width:2;stroke:rgb(255,255,255)\"/></svg>"
      ],
      "text/plain": [
       "[(0.6313725490196078, 0.788235294117647, 0.9568627450980393),\n",
       " (1.0, 0.7058823529411765, 0.5098039215686274),\n",
       " (0.5529411764705883, 0.8980392156862745, 0.6313725490196078),\n",
       " (1.0, 0.6235294117647059, 0.6078431372549019),\n",
       " (0.8156862745098039, 0.7333333333333333, 1.0),\n",
       " (0.8705882352941177, 0.7333333333333333, 0.6078431372549019),\n",
       " (0.9803921568627451, 0.6901960784313725, 0.8941176470588236),\n",
       " (0.8117647058823529, 0.8117647058823529, 0.8117647058823529),\n",
       " (1.0, 0.996078431372549, 0.6392156862745098),\n",
       " (0.7254901960784313, 0.9490196078431372, 0.9411764705882353)]"
      ]
     },
     "execution_count": 112,
     "metadata": {},
     "output_type": "execute_result"
    }
   ],
   "source": [
    "#import bibliotecas\n",
    "import pandas as pd\n",
    "import numpy as np\n",
    "import plotly.offline as py\n",
    "import plotly.graph_objs as go\n",
    "import seaborn as sns\n",
    "import matplotlib.pyplot as plt\n",
    "\n",
    "plt.style.use('ggplot')\n",
    "sns.color_palette('pastel')"
   ]
  }
 ],
 "metadata": {
  "kernelspec": {
   "display_name": "Python 3",
   "language": "python",
   "name": "python3"
  },
  "language_info": {
   "codemirror_mode": {
    "name": "ipython",
    "version": 3
   },
   "file_extension": ".py",
   "mimetype": "text/x-python",
   "name": "python",
   "nbconvert_exporter": "python",
   "pygments_lexer": "ipython3",
   "version": "3.13.3"
  }
 },
 "nbformat": 4,
 "nbformat_minor": 5
}
